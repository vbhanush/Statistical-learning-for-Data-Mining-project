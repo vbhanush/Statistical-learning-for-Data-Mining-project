{
 "cells": [
  {
   "cell_type": "code",
   "execution_count": 1,
   "metadata": {
    "collapsed": true
   },
   "outputs": [],
   "source": [
    "import pandas as pd\n",
    "import numpy as np\n",
    "import matplotlib.pyplot as plt\n",
    "from sklearn import datasets\n",
    "from sklearn.naive_bayes import GaussianNB\n",
    "from sklearn.tree import DecisionTreeClassifier\n",
    "from sklearn import metrics\n",
    "from pandas_ml import ConfusionMatrix\n",
    "from sklearn import model_selection\n",
    "from sklearn.model_selection import GridSearchCV"
   ]
  },
  {
   "cell_type": "code",
   "execution_count": 2,
   "metadata": {
    "collapsed": true
   },
   "outputs": [],
   "source": [
    "dataframe = pd.read_csv(\"pima-indians-diabetes.csv\",header=None)\n",
    "array = dataframe.values\n",
    "## separate array into input and output components\n",
    "X = array[:,0:8]\n",
    "y = array[:,8]\n"
   ]
  },
  {
   "cell_type": "code",
   "execution_count": 4,
   "metadata": {},
   "outputs": [
    {
     "name": "stdout",
     "output_type": "stream",
     "text": [
      "Training Accuracy\n",
      "1.0\n",
      "             precision    recall  f1-score   support\n",
      "\n",
      "        0.0       1.00      1.00      1.00       500\n",
      "        1.0       1.00      1.00      1.00       268\n",
      "\n",
      "avg / total       1.00      1.00      1.00       768\n",
      "\n",
      "Predicted  0.0  1.0  __all__\n",
      "Actual                      \n",
      "0.0        500    0      500\n",
      "1.0          0  268      268\n",
      "__all__    500  268      768\n"
     ]
    }
   ],
   "source": [
    "from sklearn.svm import SVC\n",
    "model = SVC(kernel = 'rbf', random_state = 0)\n",
    "model.fit(X,y)\n",
    "yhat = model.predict(X)\n",
    "print (\"Training Accuracy\")\n",
    "print (metrics.accuracy_score(y, yhat))\n",
    "print (metrics.classification_report(y, yhat))\n",
    "print (ConfusionMatrix(y, yhat))"
   ]
  },
  {
   "cell_type": "code",
   "execution_count": 5,
   "metadata": {},
   "outputs": [
    {
     "name": "stdout",
     "output_type": "stream",
     "text": [
      "Predicted  0.0  1.0  __all__\n",
      "Actual                      \n",
      "0.0        151    0      151\n",
      "1.0         80    0       80\n",
      "__all__    231    0      231\n",
      "0.65367965368\n"
     ]
    },
    {
     "name": "stderr",
     "output_type": "stream",
     "text": [
      "C:\\Users\\hshah\\AppData\\Local\\Continuum\\anaconda3\\lib\\site-packages\\sklearn\\cross_validation.py:41: DeprecationWarning: This module was deprecated in version 0.18 in favor of the model_selection module into which all the refactored classes and functions are moved. Also note that the interface of the new CV iterators are different from that of this module. This module will be removed in 0.20.\n",
      "  \"This module will be removed in 0.20.\", DeprecationWarning)\n"
     ]
    }
   ],
   "source": [
    "from sklearn.cross_validation import train_test_split\n",
    "X_train, X_test, y_train, y_test = train_test_split(X, y, test_size = 0.30, random_state = 42)\n",
    "model1 = SVC(kernel = 'rbf', random_state = 0)\n",
    "model1.fit(X_train, y_train)\n",
    "y_pred = model1.predict(X_test)\n",
    "print(ConfusionMatrix(y_test, y_pred))\n",
    "print(metrics.accuracy_score(y_test, y_pred))"
   ]
  },
  {
   "cell_type": "code",
   "execution_count": 12,
   "metadata": {},
   "outputs": [
    {
     "name": "stdout",
     "output_type": "stream",
     "text": [
      "Best Parmeters are {'C': 10000.0, 'gamma': 1.0000000000000001e-05, 'kernel': 'linear'}  Testing Accuracy is  0.705627705628\n"
     ]
    }
   ],
   "source": [
    "from sklearn.model_selection import GridSearchCV\n",
    "from sklearn import svm\n",
    "gammas = np.logspace(-5, -4, 2)\n",
    "Cs = np.logspace(-2, 4, 4)\n",
    "kernels=('linear','rbf','poly')\n",
    "parameters={'kernel':kernels,'gamma':gammas,\"C\":Cs}\n",
    "\n",
    "Compare=svm.SVC() \n",
    "Best=GridSearchCV(Compare,parameters,return_train_score=True,n_jobs=-1)\n",
    "Best.fit(X_train,y_train)\n",
    "print(\"Best Parmeters are\", Best.best_params_,\" Testing Accuracy is \", Best.best_estimator_.score(X_test,y_test))\n",
    "\n"
   ]
  },
  {
   "cell_type": "code",
   "execution_count": 15,
   "metadata": {},
   "outputs": [
    {
     "name": "stdout",
     "output_type": "stream",
     "text": [
      "0.705627705628\n",
      "Predicted  0.0  1.0  __all__\n",
      "Actual                      \n",
      "0.0        116   35      151\n",
      "1.0         33   47       80\n",
      "__all__    149   82      231\n"
     ]
    }
   ],
   "source": [
    "best_model=Best.best_estimator_\n",
    "yhat = best_model.predict(X_test)\n",
    "print(metrics.accuracy_score(y_test,yhat))\n",
    "print(ConfusionMatrix(y_test, yhat))"
   ]
  },
  {
   "cell_type": "code",
   "execution_count": 16,
   "metadata": {},
   "outputs": [
    {
     "data": {
      "image/png": "[encoded data removed]",
      "text/plain": [
       "<matplotlib.figure.Figure at 0x1cf8598dc50>"
      ]
     },
     "metadata": {},
     "output_type": "display_data"
    }
   ],
   "source": [
    "fpr, tpr, threshold = metrics.roc_curve(y_test, yhat)\n",
    "roc_auc = metrics.auc(fpr, tpr)\n",
    "plt.title('Receiver Operating Characteristic ')\n",
    "plt.plot(fpr, tpr, 'b', label = 'AUC = %0.2f' % roc_auc)\n",
    "plt.legend(loc = 'lower right')\n",
    "plt.plot([0, 1], [0, 1],'r--')\n",
    "plt.xlim([0, 1])\n",
    "plt.ylim([0, 1])\n",
    "plt.ylabel('True Positive Rate')\n",
    "plt.xlabel('False Positive Rate')\n",
    "plt.show()"
   ]
  },
  {
   "cell_type": "code",
   "execution_count": null,
   "metadata": {
    "collapsed": true
   },
   "outputs": [],
   "source": []
  }
 ],
 "metadata": {
  "kernelspec": {
   "display_name": "Python 3",
   "language": "python",
   "name": "python3"
  },
  "language_info": {
   "codemirror_mode": {
    "name": "ipython",
    "version": 3
   },
   "file_extension": ".py",
   "mimetype": "text/x-python",
   "name": "python",
   "nbconvert_exporter": "python",
   "pygments_lexer": "ipython3",
   "version": "3.6.3"
  }
 },
 "nbformat": 4,
 "nbformat_minor": 2
}
